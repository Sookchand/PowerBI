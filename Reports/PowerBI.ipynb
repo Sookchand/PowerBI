{
  "nbformat": 4,
  "nbformat_minor": 0,
  "metadata": {
    "colab": {
      "name": "PowerBI.ipynb",
      "provenance": [],
      "collapsed_sections": []
    },
    "kernelspec": {
      "name": "python3",
      "display_name": "Python 3"
    }
  },
  "cells": [
    {
      "cell_type": "code",
      "metadata": {
        "id": "kxwR-KlV9WYL"
      },
      "source": [
        ""
      ],
      "execution_count": null,
      "outputs": []
    },
    {
      "cell_type": "markdown",
      "metadata": {
        "id": "Pg7CHVQm9aqi"
      },
      "source": [
        "# Load Data into Power BI\n",
        "\n",
        "*   Left bottom cornr of the home page clikc \"Get data\"\n",
        "  *   It carries you to 4 screen to choose where you want to import the data from\": \n",
        "    *   My Organisation - this is slf explanatory\n",
        "    *   Services: Online data source\n",
        "    *   FIles: on your desktop, etc\n",
        "    *   Database \n",
        "*   I am using the local drive and i going to click TrainingData 1(excel file) \n",
        "  *   You can upload the file on PowerBI or import it to work on reports\n",
        "*   I am goign to import the file tp wprok on my report.  If I wantd to share the data I can do that just by uploading the file into PowerBI instead.\n",
        "*   Click on the file and it would take you to th reprot editor window.  \n",
        "*   On the right hand of the screen there is a list of fields and a list of visualization.  \n",
        "*   Create report on sales by country\n",
        "  *   Click on tabl icon to create a table. \n",
        "  *   Drag and drop country from the list of fields\n",
        "  *   Drag and drop sales from the list of fields\n",
        "# The PowerBI desktop\n",
        "*   Loading data into desktop\n",
        "*   Click on Excel icon since data is in excel.  click on the table to view the data.  if everything is ok. clikc load.\n",
        "*   This creates a dataset whihc query can be carried out. \n",
        "*   Creatinb reports with in PowerBI desktop:\n",
        "  *   PowerBI Visualization\n",
        "  *   Using Table, Matrix and card Visualization.\n",
        "  *   Calculate the difference methods of aggregation\n",
        "  *   Use slicer to filter reports pages\n",
        "  *   Use visualization filters\n",
        "Craeating Tabls in BI:\n",
        "  *   AFter loading the data (already did earlier on) it is jsut a matter of click on the Table icon located ont he right \n",
        "  *   Then click on each field you wish to populate the data. \n",
        "  *   By selecting the field it would bring up more columns at the top on the page so that further customizing of the data can be done.  Hence. to format the sales to reflect no decimal, sales in the list of fields, click on column and clikon thousand separator.  wala\n",
        "  *   Sorting - clikc on the Manufacture column heading and it will go from a-z and click again it reverse z-a, or any of the other column can be custimize in the same way.  \n",
        "  *  Another table.  Just clik, drag and move table to new location then add the new table as you would any table.  Lets make a Product Category + profit.  \n",
        "  *   Cross filtering - by just by clicking on one of the manufacturer it highlights the product category and profit of that particular manufacturer automatically(cross filtering).  Clikc on the white space and it ends the filter method.  \n",
        "*   Table Styles and Formating\n",
        "  *   Under visualization --> values ---has a list of fields.\n",
        "  *   Next to Values is the formating options.\n",
        "  *   Format Option - Make sure the table is highlighted and aply formating.  \n",
        "  *   format painter can be used If you need to format more than one table withthe same formating style. \n",
        "    \n",
        "\n",
        "\n"
      ]
    },
    {
      "cell_type": "markdown",
      "metadata": {
        "id": "SRkq7OEYVS9C"
      },
      "source": [
        " *   Marix Visualization:\n",
        "  *   Creating a pivot table\n",
        "  *   Click on the matrix button\n",
        "  *   for the rows add product category\n",
        "  *   for columns add regions\n",
        "  *   To show total sales add sales.  You can add other informatioon such as profit, etc\n",
        "\n",
        "  ![PivotTable.PNG](data:image/png;base64,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)"
      ]
    },
    {
      "cell_type": "markdown",
      "metadata": {
        "id": "sX3S7I7yWbz9"
      },
      "source": [
        "  *   You can add drill down information.  for instance, adding channel to product category  information would give you such a view.\n",
        "  *   "
      ]
    },
    {
      "cell_type": "markdown",
      "metadata": {
        "id": "M54Lj7ZahfkJ"
      },
      "source": [
        "*   Changng the method of aggregation:\n",
        "  *   On the visualization payne for each column headers there is a drop down menu if you clikc on the arrow.  It give back what type of calculation that can be done.\n",
        "  *   Max, min, avergae, etc.\n",
        "  *   Count - gives th number of transaction.  hence, our average sales would be toalsales divinded by count.\n",
        "  *   To change column heading just double clik on it and enter the name.  \n",
        "  *   to show a verage sales, mean sales etc, just drag and drop sales do the aggregation and rename the columns.\n",
        "  *   Distinct count when applied to lets say Product Name. it will look at the product name relevant to the manufacturer and count it only once returning all of the products developed by the manufacturer.  \n",
        "\n"
      ]
    },
    {
      "cell_type": "markdown",
      "metadata": {
        "id": "dfZ35bF6uveD"
      },
      "source": [
        "## Activity(tables are on reports page 3)\n",
        "1.   Create a table showing total sales by product name.  Sort the table from highest to lowest.  Which product has the highest sales?\n",
        "  **Cortoso Projector 1080 P X980 Black - 445, 115**\n",
        "2.   Sort the table from lowest to highest.  Which product has the lowest sales?\n",
        "  **SV USB Data Cable E600 Grey - 46**\n",
        "3.   WHich product is sold in the most cities?\n",
        "  **Litware Home Theatre System 5.1 Channel M515 Brown**\n",
        "\n",
        "4.   Create a new table showing sales by country.  \n",
        "  *   Change the sumarization method to average.  WHich country has the highest average sales.\n",
        "  **China**\n",
        "  *   WHich country has the lowest sales minimum sales?\n",
        "  **China, Singapore and US**\n",
        "  *   Which country has the highest maximum sales.\n",
        "  **US**\n",
        "\n",
        "5.   Create a new table showing the profit by city(page 4): \n",
        "  *   which city has the highest number of transaction?\n",
        "  **Beijin**\n",
        "  *   Which city has the lowest average profit?\n",
        "  **Venezia**\n",
        "  *   Which city sells the most different types of products i.e. which city sells the most different type of Product Names?\n",
        "  **Beijin**\n",
        "\n"
      ]
    },
    {
      "cell_type": "markdown",
      "metadata": {
        "id": "QnhbnMq0Fd8p"
      },
      "source": [
        "*   Cards and multi Row Visualization(Page 5)\n",
        "  *   When you clikc on it in the vizualization column. you would notice it only has one field.  It is use to show a key metrics, high level, or even a KPI figure.  Hence, if you j=drop the sales filed in it, it would sum it up and display the result(55M).  \n",
        "  \n"
      ]
    },
    {
      "cell_type": "markdown",
      "metadata": {
        "id": "2xcHEYRgRFln"
      },
      "source": [
        "## Activity:  Card, Matrix and Multi Row challenge(solution on pages 5 and 6\n",
        "*   Create the following Card Visualization\n",
        "  *   Sum of sales\n",
        "  *   Average sale\n",
        "  *   Highest Sales\n",
        "  *   Lowest Sales\n",
        "  *   Number of Products Have been sold\n",
        "  *   Number of countries products have been sold in\n",
        "*   Create the following table and display for each Product Category the following:\n",
        "  *   Total Profit\n",
        "  *   Average Profit\n",
        "  *   Highest Profit\n",
        "  *   Lowest Profit\n",
        "  *   Number of products that are sold\n",
        "  *   Number of countries that the products are sold in.\n",
        "*   Create the following matrix Table\n",
        "  *   Profit by category and region\n",
        "  *   Order Quantity by Manaufacturer and Channel\n",
        "*   Create the following multi card visualization\n",
        "  *   Sales and Prifit by Category\n",
        "  *   Sales, profit and Order quantity by Channel\n"
      ]
    },
    {
      "cell_type": "markdown",
      "metadata": {
        "id": "JnX3abuJyvJV"
      },
      "source": [
        "*   Percentage Calculation:\n",
        "  *   Percent of Grand Total - this gives the grand total percent contirbution to row data field and column data field.\n",
        "  *   Percent of Column Total(100%) - this gives the percent of each row data field relvant to a particular column.\n",
        "  *   Percent Row Total(100%) - this gives the percent of each column Data field relevant to a row.  "
      ]
    },
    {
      "cell_type": "markdown",
      "metadata": {
        "id": "pRHUSNcp4e94"
      },
      "source": [
        "*   Filtering Data using Slicers:(page 8)\n",
        "  *   Click on the filter table and drop country into it.  You can now filter by country.\n",
        "  *   Notice howver, that the filter impacts the value of everything on the page(cross filter occurs).  If you do not want certain tables to be exempted from being filtered at the top of the page the click on format-->edit iteration--. choose the table to be exempted from filter operations. \n",
        "  *   For further options under visualization click on format:\n",
        "    *   Single Select - only allows you to select one option for filtering\n",
        "    *   Show \"Select all\" option - this option must be on and all other option should be off and it allows you to select as much varying option as part of your filter as you would like. \n",
        "    *   Also, you can add another filter box and fine tune your filter by date( both filter box in operation)  choose filter box, drop date into it and then choose parameter.  \n",
        "    *   relative date - the last 7 years.  or the las 4 days.  It is relative\n",
        "    *   Numeriac Slicer - Lets look at price for China.  and we wanted to see total sales and total profit for all the products that had a price range for $50 - $100.\n",
        "  *   Filtering at the Visualization levels\n",
        "    *   Open up Filters and use it to provide an additional level filtering in the table selected.  egg\n",
        "    *   Page 9 - create table with a list of countries and sales.  clik on focus mode, and open filters.\n",
        "    *   On the filters you  would see the fileds of the table to be filtered(country, sales).  \n",
        "      *   Basic Filter- There is the basic filter where you can choose as many country you would like and it automatically displays the data. \n",
        "      *   Advance Filter - filter for all contries beging with the letter \"U\", aplly filter and it ruturns the results. There is also Top N, and a lot more\n",
        "      *   Sales - has logical operators easy to under stand - less than, greater than, etc\n",
        "*   Filtering Page and reports\n",
        "  *   WHen there is nothing selected you get an option to \"Filter on this page\" choose the field you want to filter and drop it..  Filter can also be applied across pages.\n",
        "*   Drill through Filter\n",
        "  *   On P1 when i clikc on any of the filed it should take me to P2 showing me the relevant product sub category and product name data. \n",
        "    *   On page P2 when i select it , it give me the option to add a drill-through field.  In this case my drill through field is Product Category .\n",
        "    *  Just need to drag and drop it there and at the top of this page an arrow will appear.  This will allow me to go back to the page i drill through from.  \n",
        "    *   Going back to page one now, right click on any of the fields(Product Category) and it would give you the option to drill through(P1 and P2 on Reports)\n",
        "    *   Synchronize filters, clikc on view and choose page option(page 1 and page 2 eg).  "
      ]
    },
    {
      "cell_type": "markdown",
      "metadata": {
        "id": "3qV9rfmyoiQH"
      },
      "source": [
        "## Activity - Filter\n",
        "1.   How many cities have profit over 150000 and what is the total profit?\n",
        "  **19 Cities - 16,277,215**\n",
        "2.   What is the Total profit for cities that begin witht he letter S\n",
        "  ** 3211670 is the Total Profit for cities starting with the letter S**\n",
        "3.   Create a Table and display for each Product Name \n",
        "  *   WHat is the total sales for Audio (Product Category).\n",
        "  **1029381 is the Total sales for Audio**\n",
        "  *   And How many products are in the Product Category?  \n",
        "  **Total Products=106**\n",
        "4.   How many Products (Product Name) Contain the name Contoso  and Have sales greater than 100 000.  \n",
        "  **14**\n",
        "5.   WHat was the Total sales for 1 Jan 2013 to 30 Jan 2013\n",
        "  **55391760**\n",
        "6.   How Many countries sold over 50 different types of products?\n",
        "  **17**"
      ]
    },
    {
      "cell_type": "markdown",
      "metadata": {
        "id": "iwmQ5k1D--JK"
      },
      "source": [
        "# Graphs and Visualization(PivotTables)\n",
        "*   Clustered Columns\n",
        "  *   The graphs are done in the same way as tables/matrix.  \n",
        "  *   Clikc on desired graph.\n",
        "  *   Drag and drop fields \n",
        "  *   then customized th view.\n",
        "  *   Cross Highlighting is automatically done if another graph is added.\n",
        "  *   Cross filtering will reflect al values including but not limited to mean, avg, etc.  \n",
        "*   Stacked and 100% Graph\n",
        "  *   Usinng the sales by Manufacturer graph, I can brake this up by the different channels to see how the channels contribute to my sales by manufacturer.  \n",
        "  *   to do this all I need is to drag and drop my channel into the legend field in visualisation.  \n",
        "  *   To change view just clik on Stacked column or %Stacked Column Chart.  \n",
        "*   Trend Analysis Graph(how data change over time)\n",
        "  *   Line Graph:\n",
        "    *   double arraow(going one step down the heirarchy)\n",
        "    *   The fork expands down a levels\n",
        "    *   Click on data analytics and add a trend line.\n",
        "      *   Forecasting, min, max, etc can be done\n",
        "      *   forecasting; \n",
        "    *   You can add slicers also: Product category, now by just selecting a category you can see that specific trend.  \n",
        "\n",
        "  *   Area Graph\n",
        "  *   This si very similar to the line graph.\n",
        "  *   It does not have filter\n",
        "  *   It i very good for showing size\n",
        "  *   Create small multiples ---> open filter, drop prodcut category and create 3 Area graph for Audio, Cameras, Computers. (page 5)  \n",
        "  *   Create a slicer by Region whihc cross filters when clicking on it. \n",
        "  *   This graph is really good for viewing different items.  By clicking on the graph you get a Legend.- No legend  \n",
        "  *   Stacked Area Chart places the data on top of each other whihc allows you to see it better and compare. Using legend\n",
        "*   Ribbon Graph\n",
        "  *   This graph gives the ranking.  Putting the highest product category at the top.  Hence, the data is stacked from lowest to highest.\n",
        "  *   It also has created a join to the next column showing the change over time.\n",
        "  *   By hovering over the join it shows additional information givng the difference between the columns.  \n",
        "*   Pie Chart\n",
        "  *   Pie Chart should have a maximum of 7 elements\n",
        "  *   It works with % so make sure it is on.  \n",
        "*   TreeMap - This uses rectangle spaces to represent sizes.  Hence it can eaily show smallest to largest at a glance.  \n",
        "*   Scatter plot and Bubble plot:\n",
        "  *   These are good for showing or determing if there is correlation between data.  Going to determine if profit increase with sales using a scatter plot on page 7.\n",
        "  *   Plotting profit, sales and quantity, using dates to play. \n",
        "*   Decomposition Tree\n",
        "  *   this takes th data you want to analyse and generats a graph based upon what you want the data to be explaned by.  eg sales broken ---> region--->product categories per region.  Page 8"
      ]
    },
    {
      "cell_type": "markdown",
      "metadata": {
        "id": "4hhLnZjshQPE"
      },
      "source": [
        "## Practical Activity(page 9 of PivotTables)\n",
        "1.   Create a Heading - Sales DashBoard:\n",
        "  *   Create the following Card visualization.\n",
        "    *   Total Sales\n",
        "    *   Total Profit\n",
        "    *   Average Sales\n",
        "    *   Number of Products\n",
        "2.   Create an Area Graph displaying Slaes by Year and by Quarter\n",
        "3.   Create a Column graph displaying Profit by Product Category\n",
        "4.   Create a Pie Graph displaying profit by Channel\n",
        "5.   Create a Slicer for region.  \n",
        "\n"
      ]
    },
    {
      "cell_type": "markdown",
      "metadata": {
        "id": "2eODGJL5yKbY"
      },
      "source": [
        "*   Publishing Report to PowerBI Services\n",
        "  *   At the top right hand corner clik on the Publish button and this will publish your page that you have saved.  Give it a name.  \n",
        "  *   Youo can pin any part of the report to the dash board function on PowerBI service.   You must give this a name.  \n",
        "*   Mobile View\n",
        "  *   Go bakc to the desktop to create a mobile friendly view:\n",
        "    *   On the desk top go to view, then phone layout\n",
        "*   Apps WOrkSpace\n",
        "  *   Click on Workspace\n",
        "  *   Click on Create a workspace\n",
        "*   Publishing an App\n",
        "  *   Why woul we create an app- it makes it easy for people to view the data.\n",
        "  *   First Create a new dashboard - go into the sales report and pin the relevant information to your new dash board.\n",
        "  *   give the dash board a name.\n",
        "  *   In the new workspace we jsut create (apps Works space above).  you would see the new dashbaord and the report.\n",
        "  *   You would get the option to include stuff in the app, such as the training report.  \n",
        "  *   Fill out info in the setup, \n",
        "  *   Navigation - use the default navigation microsoft provides.\n",
        "  *   Permission - set permision\n",
        "  *   click on the publish button\n",
        "  *   To load the App into my powerBI \n",
        "    *   click on the app on left navigation payne.\n",
        "    *   Click get the app\n",
        "    *   Click on \"get it now\" and this wold load the app.\n",
        "    *   The app icon will come up. click on it and that is it\n",
        "*   Using Theme in PowerBI:\n",
        "  *   From the list of menu at the top:\n",
        "  *   click on view and choose a theme\n",
        "  *   WHile in default theme, you can click on cutomize\n",
        "    *   Name the customize theme and work your majic:\n",
        "      *   Name and Colors\n",
        "      *   Text\n",
        "      *   Visual\n",
        "      *   Page\n",
        "      *   Filtr Payne\n",
        "*   Using custom Visualization\n",
        "  *   From the menu click Home and then on more visual(top righthand)\n",
        "    *   App Source"
      ]
    },
    {
      "cell_type": "markdown",
      "metadata": {
        "id": "50JDCrI0HjSt"
      },
      "source": [
        "# Dax Formulas\n",
        "*   DAX Formulas\n",
        "  *   On the left hand side clikc on the data payne.  This give you back the data in an excel format.\n",
        "  *   We have a ListPrice column and a OrderQuantity column. \n",
        "  *   Going to create another column(it adds a column at the end) name the field Sales = . \n",
        "  *   Click on New COlumn and name the field\"sales\".\n",
        "  *   Press leftside square bracket and choose the field\n",
        "  *   multiply\"*\"\n",
        "  *   LeftSide Bracket and choose field again and clik entere \"Sales = [ListPrice] * [OrderQuantity]\" done.\n",
        "  *   To customiz the column clikc on the field \"Sales\" and at the top you owuld see ColumnTools come up.  Click on it and carry out customization process. \n",
        "  *   add a new column for Cost \"Cost = [UnitPrice]*[OrderQty]\"\n",
        "  *   add a new column for Profit \"Profit = [Sales]-[Cost]\"\n",
        "*   Date Function\n",
        "  *   Year - Create column\n",
        "  *   Name column \"Year = Ye(brings up DAX and choose YEAR)\n",
        "  *   Customize - Cllikc on custmize tools and choose don't summation since we would not want the years to be summarized.\n",
        "  *   Month - add month in the same way\n",
        "  *   Day - add the day of the month in the same way\n",
        "  *   Week number - add week number in the same way just using the WEEKNUM function in this case\n",
        "  *  WeekDay - add week day in the same way as above only using WEEKDAY function.\n",
        "*   Formatting Dates\n",
        "  *   Formatting weekday number to days.  Highlight table you are working with.  on the menu bar click modelling button, then new column\n",
        "  *   Weekday Name = FORMAT([SalesDate], \"DDDD\") - this produces a new field whihc we can now add to the table.  \n",
        "  *    Month Name = FORMAT([SalesDate], \"MMMM\")  - this produces a new field whihc we can now add to the table.\n",
        "*   Date Master Table\n",
        "  *   Create the table and all of the values in excel.\n",
        "  *   Import the table\n",
        "  *   Format - in the menu bar click on Mark as Date Table. then as Master Table.\n",
        "  *   Seeing that we have added a second table we need to ensure that the relationships are ok.  \n",
        "  *   Click on the relationship icon on the left side bar.\n",
        "  *   This brings up the two tables.  On Table 1 click and drrag and drop SalesDates unto MasterDate in the Date table and the connection would be created. \n"
      ]
    },
    {
      "cell_type": "markdown",
      "metadata": {
        "id": "2QgfETAchtWq"
      },
      "source": [
        "# Dax Measures\n",
        "Dax Measures does not produce a result in the table but rather produces a results within a visualization.  \n",
        "*   Introduction to DAX Measures:\n",
        "  *   The way that a measure works is in context of the visualization(create table with country and sales)  however, the results does not reside in the Table but it can be use.  \n",
        "  *   New Measure - highlight table, clikc on New Measure, insert formula in formalar bar \"Total Sales = SUM(Table1[Sales])\"\n",
        "  *   Note - the measure name must be completely unique across the dataset.\n",
        "  *   Home Table - check to see if the measure is in the right table if not click on home table and adjust it.  \n",
        "  *   Create another Measure Total Profit \"Total Sales = SUM(Table1[Profit])\"\n",
        "*   The =Calculate Formula\n",
        "  *   This allows you to apply filters to any calculation done.  \n",
        "  *   Bike Sales = Bike Sales = CALCULATE(SUM(Table1[Sales]), Table1[Business Segment]=\"Bikes\")\n",
        "  *   2018 Sales = CALCULATE([Total Sales], Dates[Year]=2018)\n",
        "  *   Bike sales 2018 = CALCULATE([Bike Sales], Dates[Year]=2018)"
      ]
    },
    {
      "cell_type": "markdown",
      "metadata": {
        "id": "aUVnqbXc5xMD"
      },
      "source": [
        "# Relationships \n",
        "*   Creating and Managing Relationships in PowerBI\n",
        "  *   Import dataset(Table_1, Workshop)\n",
        "  *   Problem - Total training cost for the department\n",
        "  *   WHat i want is a new calculated column \n",
        "    *   Total Training cost - Training Cost = CALCULATE(SUM(Workshops[Cost]))\n",
        "    *   No. of courses each employee was on - No. of Courses = CALCULATE(COUNT(Workshops[Employee ID]))\n",
        "    *   Add an employee name to this table - \n",
        "\n",
        "# PowerBI Query Editor\n",
        "*   Import the data\n",
        "  *   Instead of loading data click on transform the data.  This opens up QUery Editor.  \n",
        "  *   Properties - Master\n",
        "  *   Applied Steps - The query editor creates a sequential step of all work done to the data.\n",
        "    *   Use the first row as as my header - top right hand corner click on \"Use first row as Header\".\n",
        "    *   Change tye automatically is donw withthe first step.  But since we have a date type then deleting Changetype is a good idea as dealing with date has to be done separatly. \n",
        "    *   EmployeeID - change it from txt to whole numbers\n",
        "    *   Remove unwanted columns by slecting, right click and click on remove button.  \n",
        "    *   Rename - change cloumn name(field) from Title to Job Position\n",
        "    *   Date - Click on locale..choose date, and English UK settings. \n",
        "    *   Replace Values - instead of M(Married).  Right click on field, choose replace value and make the adjsutments.\n",
        "    *   Choosing columns to work with - on menu bar click on choose columns and deselect coulmns you are notinterested in.  \n",
        "    *   At this point data ready to be loaded.  At the top left hand corner click on \"close and apply\" and this will load the data.   \n",
        "    *   The Job Title is in lowercase.  To change it to uppercase - in the menu bar click on Transform data and you will go back into the query editor, right click on the field, choose trandform scroll down and choose the function (UPPERCASE) and it is done.  \n",
        "    *   Selecting Birthdate - you can add a column to show what year the person was born.\n",
        "    *   Click on Add column, you would see on the menu from date and Time click on Date button and choose year.  \n",
        "    *   Age - select Birthdate filed then click on Add column--> Date--> age this gives back the value in days. more wok\n",
        "      *   selct column--> click on transform--> duration--> choose years\n",
        "*   Aggregation\n",
        "  *   How many of these employee IDs is against these Job Position\n",
        "  *   No. of Sick Leave\n",
        "  *   No. of Vacation\n",
        "  *   Average age for these positions\n",
        "  *   Click on Group by and it brings up a dialogue box.  \n",
        "  *   Select Advanced.\n",
        "  *   Fill out information\n",
        "  *   after you run it click close and apply and a table with new rows containing the information will be availbale.\n",
        "  *   To disable a table from load click on transform data-->take you to power query-->right click on table and select the deselect the enable button --> close and load.  \n"
      ]
    },
    {
      "cell_type": "markdown",
      "metadata": {
        "id": "OeRVgbihlQ00"
      },
      "source": [
        "# "
      ]
    },
    {
      "cell_type": "code",
      "metadata": {
        "id": "3Uo66c89VfVE"
      },
      "source": [
        ""
      ],
      "execution_count": null,
      "outputs": []
    }
  ]
}